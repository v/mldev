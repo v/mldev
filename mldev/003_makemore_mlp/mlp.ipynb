{
 "cells": [
  {
   "cell_type": "markdown",
   "metadata": {},
   "source": [
    "---\n",
    "title: \"Makemore multi layer perceptron\"\n",
    "format: \n",
    "    gfm:\n",
    "        echo: false\n",
    "jupyter: python3\n",
    "---"
   ]
  },
  {
   "cell_type": "markdown",
   "metadata": {},
   "source": [
    "In this post, I build a [multi layer perceptron](https://www.youtube.com/watch?v=TCH_1BHY58I) architecture for makemore.\n",
    "\n",
    "I am experimenting with blogging directly in a Juptyer notebook using [quarto](https://quarto.org/) rather than writing a notebook and taking duplicate notes in a markdown doc."
   ]
  },
  {
   "cell_type": "markdown",
   "metadata": {},
   "source": [
    "## Preparing datasets \n",
    "\n",
    "Let's start by reading in an input list of words and preparing our training, dev, test datasets."
   ]
  },
  {
   "cell_type": "code",
   "execution_count": 34,
   "metadata": {},
   "outputs": [],
   "source": [
    "import matplotlib.pyplot as plt\n",
    "import numpy as np\n",
    "import pprint\n",
    "import random\n",
    "import torch\n",
    "import torch.nn.functional as F\n",
    "from tqdm import tqdm\n",
    "pp = pprint.PrettyPrinter()\n",
    "\n",
    "%matplotlib inline"
   ]
  },
  {
   "cell_type": "code",
   "execution_count": 35,
   "metadata": {},
   "outputs": [
    {
     "name": "stdout",
     "output_type": "stream",
     "text": [
      "['emma', 'olivia', 'ava', 'isabella', 'sophia', 'charlotte', 'mia', 'amelia', 'harper', 'evelyn']\n"
     ]
    }
   ],
   "source": [
    "#| echo: true\n",
    "filename = 'names.txt'\n",
    "\n",
    "def get_names():\n",
    "    names = []\n",
    "    for line in open(filename, 'r'):\n",
    "        if line.startswith('#'):\n",
    "            continue\n",
    "        name = line.strip().lower()\n",
    "        if not name or not name.isalpha:\n",
    "            continue\n",
    "        names.append(name)\n",
    "    return names\n",
    "\n",
    "words = get_names()\n",
    "print(words[:10])"
   ]
  },
  {
   "cell_type": "markdown",
   "metadata": {},
   "source": [
    "Then, we write some helpers to convert between letters and numerical indexes."
   ]
  },
  {
   "cell_type": "code",
   "execution_count": 36,
   "metadata": {},
   "outputs": [
    {
     "name": "stdout",
     "output_type": "stream",
     "text": [
      ".abcdefghijklmnopqrstuvwxyz\n"
     ]
    }
   ],
   "source": [
    "#| echo: true\n",
    "letters = '.' + ''.join(sorted(set(''.join(words))))\n",
    "num_letters = len(letters)\n",
    "\n",
    "itol = {i: l for i, l in enumerate(letters)}\n",
    "ltoi = {l: i for i, l in enumerate(letters)}\n",
    "\n",
    "print(letters)"
   ]
  },
  {
   "cell_type": "markdown",
   "metadata": {},
   "source": [
    "And a helper function to turn words into tensors."
   ]
  },
  {
   "cell_type": "code",
   "execution_count": 37,
   "metadata": {},
   "outputs": [
    {
     "name": "stdout",
     "output_type": "stream",
     "text": [
      "[(tensor([0, 0, 0]), tensor(5)),\n",
      " (tensor([0, 0, 5]), tensor(13)),\n",
      " (tensor([ 0,  5, 13]), tensor(13)),\n",
      " (tensor([ 5, 13, 13]), tensor(1)),\n",
      " (tensor([13, 13,  1]), tensor(0))]\n"
     ]
    }
   ],
   "source": [
    "#| echo: true\n",
    "context_size = 3 # how many letters do we see to predict the next one\n",
    "\n",
    "def build_dataset(words):\n",
    "    X, Y = [], []\n",
    "    for word in words:\n",
    "        # takes advantage of the fact itos[0] == '.'\n",
    "        context = [0] * context_size\n",
    "\n",
    "        for ch in word + '.':\n",
    "            X.append(context)\n",
    "            ix = ltoi[ch]\n",
    "            Y.append(ix)\n",
    "\n",
    "            context = context[1:] + [ix]\n",
    "\n",
    "    return torch.tensor(X), torch.tensor(Y)\n",
    "\n",
    "# sanity check the function\n",
    "xx, yy = build_dataset(['emma'])\n",
    "pp.pprint(list(zip(xx, yy)))"
   ]
  },
  {
   "cell_type": "markdown",
   "metadata": {},
   "source": [
    "Let's now prepare the training, dev and test datasets.\n",
    "\n",
    "- Training - 80% of our data. Used to train the model\n",
    "- Dev - 10% of our data. Used to evaluate the model, to verify that the model isn't overfitting and to tune hyperparameters.\n",
    "- Test - 10% of our data. Used to check that the model is going to work on never before seen data."
   ]
  },
  {
   "cell_type": "code",
   "execution_count": 38,
   "metadata": {},
   "outputs": [],
   "source": [
    "#| echo: true\n",
    "import random\n",
    "\n",
    "random.seed(42)\n",
    "random.shuffle(words)\n",
    "\n",
    "n1 = int(len(words) * 0.8)\n",
    "n2 = int(len(words) * 0.9)"
   ]
  },
  {
   "cell_type": "code",
   "execution_count": 39,
   "metadata": {},
   "outputs": [
    {
     "name": "stdout",
     "output_type": "stream",
     "text": [
      "train shape torch.Size([182625, 3])\n",
      "dev shape torch.Size([22655, 3])\n",
      "test shape torch.Size([22866, 3])\n"
     ]
    }
   ],
   "source": [
    "#| echo: true\n",
    "Xtr, Ytr = build_dataset(words[:n1])\n",
    "Xdev, Ydev = build_dataset(words[n1:n2])\n",
    "Xtest, Ytest = build_dataset(words[n2:])\n",
    "\n",
    "print(\"train shape\", Xtr.shape)\n",
    "print(\"dev shape\", Xdev.shape)\n",
    "print(\"test shape\", Xtest.shape)\n",
    "\n",
    "assert Xtr.shape[0], Ytr.shape[0]\n",
    "assert Xtr.dtype == Ytr.dtype == torch.int64"
   ]
  },
  {
   "cell_type": "markdown",
   "metadata": {},
   "source": [
    "Our datasets are ready."
   ]
  },
  {
   "cell_type": "markdown",
   "metadata": {},
   "source": [
    "## Neural network setup \n",
    "\n",
    "Let's train the multi layer perceptron and evaluate the network."
   ]
  },
  {
   "cell_type": "code",
   "execution_count": 40,
   "metadata": {},
   "outputs": [],
   "source": [
    "#| echo: true\n",
    "#| output: false\n",
    "batch_size = 32\n",
    "\n",
    "# changed these parameters 10 times to achieve the best loss on the dev set\n",
    "training_iter = 200000\n",
    "word_embedding_size = 64\n",
    "hidden_layer_size = 64\n",
    "\n",
    "class MLP:\n",
    "    \"\"\"MLP refers to a multi layer perception model\n",
    "\n",
    "    This class lets us run the forward and backward pass many times \n",
    "    without having to copy/paste the tensor manipulation code many times\"\"\"\n",
    "    def __init__(self):\n",
    "        # C maps each letter to its embedding\n",
    "        self.C = torch.randn((num_letters, word_embedding_size), requires_grad=True)\n",
    "\n",
    "        # W1, B1 are parameters for the embedding layer -> hidden layer\n",
    "        self.W1 = torch.randn((context_size * word_embedding_size, hidden_layer_size), requires_grad=True)\n",
    "        self.B1 = torch.randn((hidden_layer_size,), requires_grad=True)\n",
    "\n",
    "        # W2, B2 are parameters for the hidden layer -> output layer\n",
    "        self.W2 = torch.randn((hidden_layer_size, num_letters), requires_grad=True)\n",
    "        self.B2 = torch.randn((num_letters,), requires_grad=True)\n",
    "\n",
    "        # W3 is a parmeter for a direct connection from the embedding layer to the output\n",
    "        # this is a technique recommended in the paper\n",
    "        self.W3 = torch.randn((word_embedding_size * context_size, num_letters), requires_grad=True)\n",
    "\n",
    "        self.params = [self.C, self.W1, self.B1, self.W2, self.B2, self.W3]\n",
    "\n",
    "    def __call__(self, X: torch.Tensor):\n",
    "        # E is the embedding layer\n",
    "        # the shape of this is num_letters * context_size * word_embedding_size\n",
    "        E = self.C[X].view(-1, context_size * word_embedding_size) \n",
    "\n",
    "        # H is the hidden layer\n",
    "        H = E @ self.W1 + self.B1\n",
    "\n",
    "        # logits from the output layer\n",
    "        logits = H.tanh() @ self.W2 + self.B2 + (E @ self.W3)\n",
    "        return logits\n",
    "    \n",
    "    def zero_grad(self):\n",
    "        for param in self.params:\n",
    "            param.grad = None\n",
    "\n",
    "    def optim_step(self, lr: float):\n",
    "        for param in self.params:\n",
    "            param.data += -lr * param.grad\n",
    "\n",
    "    def weight_decay_value(self, c: float): # this is the regularization term\n",
    "        return c * ((self.W1 ** 2).mean() + (self.W2 ** 2).mean() + (self.W3 ** 2).mean())\n",
    "\n",
    "\n",
    "m = MLP()"
   ]
  },
  {
   "cell_type": "code",
   "execution_count": 41,
   "metadata": {},
   "outputs": [
    {
     "name": "stderr",
     "output_type": "stream",
     "text": [
      "100%|██████████| 200000/200000 [01:22<00:00, 2417.56it/s]\n"
     ]
    },
    {
     "name": "stdout",
     "output_type": "stream",
     "text": [
      "tensor(2.3442, grad_fn=<AddBackward0>)\n"
     ]
    },
    {
     "data": {
      "text/plain": [
       "[<matplotlib.lines.Line2D at 0x28edb5e40>]"
      ]
     },
     "execution_count": 41,
     "metadata": {},
     "output_type": "execute_result"
    },
    {
     "data": {
      "image/png": "[encoded data removed]",
      "text/plain": [
       "<Figure size 640x480 with 1 Axes>"
      ]
     },
     "metadata": {},
     "output_type": "display_data"
    }
   ],
   "source": [
    "#| echo: true\n",
    "#| output: false\n",
    "lossi = []\n",
    "\n",
    "for i in tqdm(range(training_iter)):\n",
    "    ix = torch.randint(0, Xtr.shape[0], (batch_size, ))\n",
    "    X = Xtr[ix]\n",
    "    Y = Ytr[ix]\n",
    "\n",
    "    O = m(X)\n",
    "    loss = F.cross_entropy(O, Y) + m.weight_decay_value(0.1)\n",
    "\n",
    "    m.zero_grad()\n",
    "    loss.backward()\n",
    "\n",
    "    lr = 0.1 if i < training_iter // 2 else 0.01\n",
    "    m.optim_step(lr)\n",
    "    lossi.append(loss.data)\n",
    "\n",
    "print(loss)\n",
    "plt.plot(lossi)"
   ]
  },
  {
   "cell_type": "markdown",
   "metadata": {},
   "source": [
    "Let's look at the loss on the dev set.\n",
    "\n",
    "We are trying to beat a loss of 2.2 from the lecture."
   ]
  },
  {
   "cell_type": "code",
   "execution_count": 42,
   "metadata": {},
   "outputs": [
    {
     "name": "stdout",
     "output_type": "stream",
     "text": [
      "tensor(2.1405, grad_fn=<NllLossBackward0>)\n"
     ]
    }
   ],
   "source": [
    "#| echo: true\n",
    "# Dev set loss\n",
    "print(F.cross_entropy(m(Xdev), Ydev))"
   ]
  },
  {
   "cell_type": "markdown",
   "metadata": {},
   "source": [
    "We beat it just barely.\n",
    "\n",
    "To beat the loss from the lecture, I tried various values of `word_embedding_size`, `hidden_layer_size` and added in an extra `W3` matrix for a direct connection from the embedding layer to the output layer.\n",
    "\n",
    "Let's check our test set loss for sanity."
   ]
  },
  {
   "cell_type": "code",
   "execution_count": 43,
   "metadata": {},
   "outputs": [
    {
     "name": "stdout",
     "output_type": "stream",
     "text": [
      "tensor(2.1387, grad_fn=<NllLossBackward0>)\n"
     ]
    }
   ],
   "source": [
    "#| echo: true\n",
    "# Test set loss\n",
    "print(F.cross_entropy(m(Xtest), Ytest))"
   ]
  },
  {
   "cell_type": "markdown",
   "metadata": {},
   "source": [
    "Test loss is pretty close to dev loss. This is good because it means that our dev set performance is generalizing on the test set too."
   ]
  },
  {
   "cell_type": "markdown",
   "metadata": {},
   "source": [
    "## Generate new words\n",
    "\n",
    "Let's see what kinds of words our model generates."
   ]
  },
  {
   "cell_type": "code",
   "execution_count": 22,
   "metadata": {},
   "outputs": [
    {
     "name": "stdout",
     "output_type": "stream",
     "text": [
      "zilynn\n",
      "emela\n",
      "leigh\n",
      "raudialettaria\n",
      "julipfeana\n",
      "jobynn\n",
      "bus\n",
      "kiani\n",
      "azia\n",
      "sauro\n"
     ]
    }
   ],
   "source": [
    "#| echo: true\n",
    "#| code-fold: true\n",
    "g = torch.Generator().manual_seed(0)\n",
    "\n",
    "for i in range(10):\n",
    "    \n",
    "    context = [0] * context_size\n",
    "    word = ''\n",
    "\n",
    "    while True:\n",
    "        logits = m(torch.tensor(context))\n",
    "        # sanity check\n",
    "        assert logits.shape == (1, num_letters)\n",
    "\n",
    "        probs = logits.softmax(dim=1)\n",
    "        # sanity check\n",
    "        np.testing.assert_almost_equal(probs[0].sum().item(), 1, decimal=3)\n",
    "\n",
    "        next_letter_ix = torch.multinomial(probs, num_samples=1, replacement=True, generator=g)\n",
    "        letter = itol[next_letter_ix.item()]\n",
    "\n",
    "        if letter == '.':\n",
    "            break\n",
    "\n",
    "        word += letter\n",
    "        context = context[1:] + [ next_letter_ix ]\n",
    "    print(word)"
   ]
  },
  {
   "cell_type": "markdown",
   "metadata": {},
   "source": [
    "I'd say these are half decent. Definitely far from random. Our model did learn something after all."
   ]
  }
 ],
 "metadata": {
  "interpreter": {
   "hash": "7feba0c39194aeb14b5e7bd5560b8c45dc2d3c126975e5595ee228f6b74cec04"
  },
  "kernelspec": {
   "display_name": "Python 3.10.7 ('.venv': poetry)",
   "language": "python",
   "name": "python3"
  },
  "language_info": {
   "codemirror_mode": {
    "name": "ipython",
    "version": 3
   },
   "file_extension": ".py",
   "mimetype": "text/x-python",
   "name": "python",
   "nbconvert_exporter": "python",
   "pygments_lexer": "ipython3",
   "version": "3.10.7"
  },
  "orig_nbformat": 4
 },
 "nbformat": 4,
 "nbformat_minor": 2
}
