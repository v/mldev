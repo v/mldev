{
  "cells": [
    {
      "cell_type": "markdown",
      "metadata": {
        "id": "JnGHatCI51JP"
      },
      "source": [
        "# micrograd exercises\n",
        "\n",
        "1. watch the [micrograd video](https://www.youtube.com/watch?v=VMj-3S1tku0) on YouTube\n",
        "2. come back and complete these exercises to level up :)"
      ]
    },
    {
      "cell_type": "markdown",
      "metadata": {
        "id": "OFt6NKOz6iBZ"
      },
      "source": [
        "## section 1: derivatives"
      ]
    },
    {
      "cell_type": "code",
      "execution_count": 25,
      "metadata": {
        "colab": {
          "base_uri": "https://localhost:8080/"
        },
        "id": "3Jx9fCXl5xHd",
        "outputId": "a3565901-12cd-4448-d2f0-1f8d3fccbecb"
      },
      "outputs": [
        {
          "name": "stdout",
          "output_type": "stream",
          "text": [
            "6.336362190988558\n"
          ]
        }
      ],
      "source": [
        "# here is a mathematical expression that takes 3 inputs and produces one output\n",
        "from math import sin, cos\n",
        "\n",
        "def f(a, b, c):\n",
        "  return -a**3 + sin(3*b) - 1.0/c + b**2.5 - a**0.5\n",
        "\n",
        "print(f(2, 3, 4))"
      ]
    },
    {
      "cell_type": "code",
      "execution_count": 26,
      "metadata": {
        "colab": {
          "base_uri": "https://localhost:8080/"
        },
        "id": "qXaH59eL9zxf",
        "outputId": "59868ce3-8053-4de6-b44d-14e88ae196e4"
      },
      "outputs": [
        {
          "name": "stdout",
          "output_type": "stream",
          "text": [
            "OK for dim 0: expected -12.353553390593273, yours returns -12.353553390593273\n",
            "OK for dim 1: expected 10.25699027111255, yours returns 10.25699027111255\n",
            "OK for dim 2: expected 0.0625, yours returns 0.0625\n"
          ]
        }
      ],
      "source": [
        "# write the function df that returns the analytical gradient of f\n",
        "# i.e. use your skills from calculus to take the derivative, then implement the formula\n",
        "# if you do not calculus then feel free to ask wolframalpha, e.g.:\n",
        "# https://www.wolframalpha.com/input?i=d%2Fda%28sin%283*a%29%29%29\n",
        "\n",
        "def gradf(a, b, c):\n",
        "\n",
        "  dfda = -3 * a**2 - 0.5 * a ** -0.5\n",
        "  dfdb = 3 * cos(3*b) + 2.5 * b ** 1.5\n",
        "  dfdc = 1 / c**2\n",
        "  return [dfda, dfdb, dfdc]\n",
        "\n",
        "# expected answer is the list of \n",
        "ans = [-12.353553390593273, 10.25699027111255, 0.0625]\n",
        "yours = gradf(2, 3, 4)\n",
        "for dim in range(3):\n",
        "  ok = 'OK' if abs(yours[dim] - ans[dim]) < 1e-5 else 'WRONG!'\n",
        "  print(f\"{ok} for dim {dim}: expected {ans[dim]}, yours returns {yours[dim]}\")\n"
      ]
    },
    {
      "cell_type": "code",
      "execution_count": 27,
      "metadata": {
        "colab": {
          "base_uri": "https://localhost:8080/"
        },
        "id": "_27n-KTA9Qla",
        "outputId": "3a7f2cad-7d6d-4307-b111-cbcc98d94e71"
      },
      "outputs": [
        {
          "name": "stdout",
          "output_type": "stream",
          "text": [
            "OK for dim 0: expected -12.353553390593273, yours returns -12.353559348809995\n",
            "OK for dim 1: expected 10.25699027111255, yours returns 10.256991666679482\n",
            "OK for dim 2: expected 0.0625, yours returns 0.062499984743169534\n"
          ]
        }
      ],
      "source": [
        "# now estimate the gradient numerically without any calculus, using\n",
        "# the approximation we used in the video.\n",
        "# you should not call the function df from the last cell\n",
        "\n",
        "# -----------\n",
        "\n",
        "h = 0.000001\n",
        "a1, b1, c1 = 2, 3, 4\n",
        "\n",
        "y1 = f(a1, b1, c1)\n",
        "\n",
        "dfda = (f(a1 + h, b1, c1) - y1) / h\n",
        "dfdb = (f(a1, b1 + h, c1) - y1) / h\n",
        "dfdc = (f(a1, b1, c1 + h) - y1) / h\n",
        "\n",
        "numerical_grad = [dfda, dfdb, dfdc]\n",
        "# -----------\n",
        "\n",
        "for dim in range(3):\n",
        "  ok = 'OK' if abs(numerical_grad[dim] - ans[dim]) < 1e-5 else 'WRONG!'\n",
        "  print(f\"{ok} for dim {dim}: expected {ans[dim]}, yours returns {numerical_grad[dim]}\")\n"
      ]
    },
    {
      "cell_type": "code",
      "execution_count": 28,
      "metadata": {
        "colab": {
          "base_uri": "https://localhost:8080/"
        },
        "id": "BUqsGb5o_h2P",
        "outputId": "4ae78b57-7509-4914-fcb4-8734d9bbf094"
      },
      "outputs": [
        {
          "name": "stdout",
          "output_type": "stream",
          "text": [
            "OK for dim 0: expected -12.353553390593273, yours returns -12.353553391353245\n",
            "OK for dim 1: expected 10.25699027111255, yours returns 10.25699027401572\n",
            "OK for dim 2: expected 0.0625, yours returns 0.06250000028629188\n"
          ]
        }
      ],
      "source": [
        "# there is an alternative formula that provides a much better numerical \n",
        "# approximation to the derivative of a function.\n",
        "# learn about it here: https://en.wikipedia.org/wiki/Symmetric_derivative\n",
        "# implement it. confirm that for the same step size h this version gives a\n",
        "# better approximation.\n",
        "\n",
        "# -----------\n",
        "\n",
        "y1 = f(a1, b1, c1)\n",
        "\n",
        "dfda = (f(a1 + h, b1, c1) - f(a1 - h, b1, c1)) / (2 * h)\n",
        "dfdb = (f(a1, b1 + h, c1) - f(a1, b1 - h, c1)) / (2 * h)\n",
        "dfdc = (f(a1, b1, c1 + h) - f(a1, b1, c1 - h)) / (2 * h)\n",
        "numerical_grad2 = [dfda, dfdb, dfdc] # TODO\n",
        "# -----------\n",
        "\n",
        "for dim in range(3):\n",
        "  ok = 'OK' if abs(numerical_grad2[dim] - ans[dim]) < 1e-5 else 'WRONG!'\n",
        "  print(f\"{ok} for dim {dim}: expected {ans[dim]}, yours returns {numerical_grad2[dim]}\")\n"
      ]
    },
    {
      "cell_type": "markdown",
      "metadata": {
        "id": "tklF9s_4AtlI"
      },
      "source": [
        "## section 2: support for softmax"
      ]
    },
    {
      "cell_type": "code",
      "execution_count": 29,
      "metadata": {
        "id": "nAPe_RVrCTeO"
      },
      "outputs": [],
      "source": [
        "# Value class starter code, with many functions taken out\n",
        "from math import exp, log\n",
        "\n",
        "class Value:\n",
        "  \n",
        "  def __init__(self, data, _children=(), _op='', label=''):\n",
        "    self.data = data\n",
        "    self.grad = 0.0\n",
        "    self._backward = lambda: None\n",
        "    self._prev = set(_children)\n",
        "    self._op = _op\n",
        "    self.label = label\n",
        "\n",
        "  def __repr__(self):\n",
        "    return f\"Value(data={self.data})\"\n",
        "  \n",
        "  def __add__(self, other): # exactly as in the video\n",
        "    other = other if isinstance(other, Value) else Value(other)\n",
        "    out = Value(self.data + other.data, (self, other), '+')\n",
        "    \n",
        "    def _backward():\n",
        "      self.grad += 1.0 * out.grad\n",
        "      other.grad += 1.0 * out.grad\n",
        "    out._backward = _backward\n",
        "    \n",
        "    return out\n",
        "  \n",
        "  # ------\n",
        "  # re-implement all the other functions needed for the exercises below\n",
        "  # your code here\n",
        "  # TODO\n",
        "  # ------\n",
        "\n",
        "  def __radd__(self, other):\n",
        "    return self.__add__(other)\n",
        "\n",
        "  def exp(self):\n",
        "    e = exp(self.data)\n",
        "    out = Value(e, (self,), 'e^')\n",
        "    def _backward():\n",
        "      self.grad += e * out.grad\n",
        "\n",
        "    out._backward = _backward\n",
        "    return out\n",
        "\n",
        "  def __mul__(self, other):\n",
        "    other = other if isinstance(other, Value) else Value(other)\n",
        "    out = Value(self.data * other.data, (self, other), '*')\n",
        "    \n",
        "    def _backward():\n",
        "      self.grad += other.data * out.grad\n",
        "      other.grad += self.data * out.grad\n",
        "    out._backward = _backward\n",
        "    \n",
        "    return out\n",
        "\n",
        "  def __neg__(self):\n",
        "    return self * -1\n",
        "\n",
        "  def __pow__(self, k):\n",
        "    if isinstance(k, Value):\n",
        "      raise 'pow only supported for scalars for now'\n",
        "\n",
        "    out = Value(self.data ** k, (self, ), '**')\n",
        "    def _backward():\n",
        "      self.grad += k * self.data**(k-1) * out.grad\n",
        "    \n",
        "    out._backward = _backward\n",
        "    return out\n",
        "\n",
        "\n",
        "  def __truediv__(self, other):\n",
        "    return self * other ** -1\n",
        "\n",
        "  def log(self):\n",
        "    l = log(self.data)\n",
        "    out = Value(l, (self,), 'log')\n",
        "    def _backward():\n",
        "      self.grad += out.grad / self.data\n",
        "    \n",
        "    out._backward = _backward\n",
        "    return out\n",
        "\n",
        "  def backward(self): # exactly as in video  \n",
        "    topo = []\n",
        "    visited = set()\n",
        "    def build_topo(v):\n",
        "      if v not in visited:\n",
        "        visited.add(v)\n",
        "        for child in v._prev:\n",
        "          build_topo(child)\n",
        "        topo.append(v)\n",
        "    build_topo(self)\n",
        "    \n",
        "    self.grad = 1.0\n",
        "    for node in reversed(topo):\n",
        "      node._backward()"
      ]
    },
    {
      "cell_type": "code",
      "execution_count": 30,
      "metadata": {},
      "outputs": [],
      "source": [
        "\n",
        "# this is the softmax function\n",
        "# https://en.wikipedia.org/wiki/Softmax_function\n",
        "def softmax(logits):\n",
        "  counts = [logit.exp() for logit in logits]\n",
        "  denominator = sum(counts)\n",
        "  out = [c / denominator for c in counts]\n",
        "  return out\n"
      ]
    },
    {
      "cell_type": "markdown",
      "metadata": {},
      "source": [
        "### testing the forward pass for newly written functions"
      ]
    },
    {
      "cell_type": "code",
      "execution_count": 31,
      "metadata": {
        "id": "BY3GopoUIZnc"
      },
      "outputs": [],
      "source": [
        "import numpy as np\n",
        "\n",
        "# mul\n",
        "\n",
        "a = Value(2.0)\n",
        "b = Value(-3.0)\n",
        "\n",
        "c = a * b\n",
        "assert c.data == -6.0\n",
        "\n",
        "\n",
        "# exp\n",
        "\n",
        "e1 = a.exp()\n",
        "assert exp(a.data) == e1.data\n",
        "\n",
        "# pow\n",
        "\n",
        "p1 = a ** 2\n",
        "\n",
        "assert p1.data == 4\n",
        "\n",
        "# log\n",
        "\n",
        "l1 = a.log()\n",
        "np.testing.assert_almost_equal(l1.data, log(a.data))\n",
        "\n",
        "# negation\n",
        "n1 = -a\n",
        "assert n1.data == -2\n",
        "# true division"
      ]
    },
    {
      "cell_type": "markdown",
      "metadata": {},
      "source": [
        "### testing the backward pass for newly written functions"
      ]
    },
    {
      "cell_type": "code",
      "execution_count": 32,
      "metadata": {
        "colab": {
          "base_uri": "https://localhost:8080/"
        },
        "id": "q7ca1SVAGG1S",
        "outputId": "baacefb2-6e73-4c4b-bd36-5e664ff71537"
      },
      "outputs": [
        {
          "name": "stdout",
          "output_type": "stream",
          "text": [
            "dim 0 grad -0.0009102211801218266\n",
            "dim 1 grad 0.0009102211801218265\n",
            "tensor(0.0009, grad_fn=<SelectBackward0>)\n",
            "tensor([-0.0009,  0.0009])\n"
          ]
        }
      ],
      "source": [
        "# confirm that softmax backward pass gives the\n",
        "# same gradient as torch\n",
        "\n",
        "logits = [Value(10.0), Value(3.0)]\n",
        "probs = softmax(logits)\n",
        "probs[1].backward()\n",
        "print(f\"dim 0 grad {logits[0].grad}\")\n",
        "print(f\"dim 1 grad {logits[1].grad}\")\n",
        "\n",
        "\n",
        "#### pytorch version\n",
        "import torch\n",
        "logitst = torch.Tensor([10, 3]); logitst.requires_grad = True\n",
        "probs = torch.softmax(logitst, dim=0)\n",
        "print(probs[1])\n",
        "probs[1].backward()\n",
        "print(logitst.grad.data)"
      ]
    },
    {
      "cell_type": "code",
      "execution_count": 33,
      "metadata": {},
      "outputs": [
        {
          "name": "stdout",
          "output_type": "stream",
          "text": [
            "a grad -0.5\n",
            "a grad tensor([-0.5000])\n"
          ]
        }
      ],
      "source": [
        "# verify that the log backward pass gives the\n",
        "# same gradient as torch\n",
        "\n",
        "a = Value(2.0)\n",
        "b = -a.log()\n",
        "\n",
        "b.backward()\n",
        "print(f\"a grad {a.grad}\")\n",
        "\n",
        "#### pytorch version\n",
        "import torch\n",
        "at = torch.Tensor([2.0]); at.requires_grad=True\n",
        "bt = -at.log()\n",
        "\n",
        "bt.backward()\n",
        "print(f\"a grad\", at.grad.data)"
      ]
    },
    {
      "cell_type": "markdown",
      "metadata": {},
      "source": [
        "### test softmax + NLL"
      ]
    },
    {
      "cell_type": "code",
      "execution_count": 34,
      "metadata": {
        "colab": {
          "base_uri": "https://localhost:8080/"
        },
        "id": "VgWvwVQNAvnI",
        "outputId": "d69062e6-fd2c-4ad0-ecfc-dd7758ce8c01"
      },
      "outputs": [
        {
          "name": "stdout",
          "output_type": "stream",
          "text": [
            "2.1755153626167147\n",
            "OK for dim 0: expected 0.041772570515350445, yours returns 0.041772570515350445\n",
            "OK for dim 1: expected 0.8390245074625319, yours returns 0.8390245074625319\n",
            "OK for dim 2: expected 0.005653302662216329, yours returns 0.005653302662216329\n",
            "OK for dim 3: expected -0.8864503806400986, yours returns -0.8864503806400986\n"
          ]
        }
      ],
      "source": [
        "# without referencing our code/video __too__ much, make this cell work\n",
        "# you'll have to implement (in some cases re-implemented) a number of functions\n",
        "# of the Value object, similar to what we've seen in the video.\n",
        "# instead of the squared error loss this implements the negative log likelihood\n",
        "# loss, which is very often used in classification.\n",
        "\n",
        "# this is the negative log likelihood loss function, pervasive in classification\n",
        "logits = [Value(0.0), Value(3.0), Value(-2.0), Value(1.0)]\n",
        "probs = softmax(logits)\n",
        "loss = -probs[3].log() # dim 3 acts as the label for this input example\n",
        "loss.backward()\n",
        "print(loss.data)\n",
        "\n",
        "ans = [0.041772570515350445, 0.8390245074625319, 0.005653302662216329, -0.8864503806400986]\n",
        "for dim in range(4):\n",
        "  ok = 'OK' if abs(logits[dim].grad - ans[dim]) < 1e-5 else 'WRONG!'\n",
        "  print(f\"{ok} for dim {dim}: expected {ans[dim]}, yours returns {logits[dim].grad}\")\n"
      ]
    },
    {
      "cell_type": "code",
      "execution_count": 35,
      "metadata": {
        "colab": {
          "base_uri": "https://localhost:8080/"
        },
        "id": "KDeuxg5z7ZTZ",
        "outputId": "fb5826ad-5a30-442d-e763-f4cde62dfc9b"
      },
      "outputs": [
        {
          "name": "stdout",
          "output_type": "stream",
          "text": [
            "[Value(data=0.9517322770094628), Value(data=0.0008678674994410643), Value(data=1.5895547723031246e-05), Value(data=0.047383959943372946)]\n"
          ]
        }
      ],
      "source": [
        "# verify the softmax + NLL results match pytorch\n",
        "test_inputs = [10.0, 3.0, -1.0, 7.0]\n",
        "label_idx = 2\n",
        "\n",
        "logits = [Value(x) for x in test_inputs]\n",
        "probs = softmax(logits)\n",
        "print(probs)\n",
        "loss = -probs[label_idx].log()\n",
        "loss.backward()\n",
        "\n",
        "grads = [l.grad for l in logits]\n",
        "\n",
        "#### pytorch version\n",
        "\n",
        "logitst = torch.Tensor(test_inputs); logitst.requires_grad = True\n",
        "probs = torch.softmax(logitst, dim=0)\n",
        "loss = -probs[label_idx].log()\n",
        "loss.backward()\n",
        "\n",
        "gradst = logitst.grad.data.tolist()\n",
        "\n",
        "np.testing.assert_array_almost_equal(grads, gradst)\n"
      ]
    }
  ],
  "metadata": {
    "colab": {
      "collapsed_sections": [],
      "provenance": []
    },
    "kernelspec": {
      "display_name": "Python 3",
      "name": "python3"
    },
    "language_info": {
      "codemirror_mode": {
        "name": "ipython",
        "version": 3
      },
      "file_extension": ".py",
      "mimetype": "text/x-python",
      "name": "python",
      "nbconvert_exporter": "python",
      "pygments_lexer": "ipython3",
      "version": "3.10.7"
    }
  },
  "nbformat": 4,
  "nbformat_minor": 0
}
